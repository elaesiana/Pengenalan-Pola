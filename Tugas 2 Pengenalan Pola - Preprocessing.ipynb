{
 "cells": [
  {
   "cell_type": "code",
   "execution_count": 6,
   "metadata": {},
   "outputs": [],
   "source": [
    "import pandas as pd\n",
    "import numpy as np\n",
    "import nltk\n",
    "from Sastrawi.Stemmer.StemmerFactory import StemmerFactory"
   ]
  },
  {
   "cell_type": "code",
   "execution_count": 21,
   "metadata": {},
   "outputs": [],
   "source": [
    "data = pd.read_fwf('DataTwitter.txt')\n",
    "data.to_csv('DataTwitter.csv')"
   ]
  },
  {
   "cell_type": "code",
   "execution_count": 16,
   "metadata": {},
   "outputs": [],
   "source": [
    "text = pd.read_csv('DataTwitter.csv', header=None)\n",
    "text = text.drop([0,2], axis=1)"
   ]
  },
  {
   "cell_type": "code",
   "execution_count": 13,
   "metadata": {},
   "outputs": [],
   "source": [
    "from bs4 import BeautifulSoup\n",
    "import re\n",
    "from nltk.tokenize import WordPunctTokenizer\n",
    "from nltk.corpus import stopwords\n",
    "tok = WordPunctTokenizer()\n",
    "pat1 = r'@[A-Za-z0-9]+'\n",
    "pat2 = r'https?://[A-Za-z0-9./]+'\n",
    "pat3 = r'RT'\n",
    "factory = StemmerFactory()\n",
    "stemmer = factory.create_stemmer()\n",
    "\n",
    "combined_pat = r'|'.join((pat1, pat2,pat3)) \n",
    "\n",
    "def tweet_cleaner(text):\n",
    "    soup = BeautifulSoup(text, 'lxml')\n",
    "    souped = soup.get_text()\n",
    "    stripped = re.sub(combined_pat, '', souped) #delete pattern combined_pat in souped\n",
    "    try:\n",
    "        clean = stripped.decode(\"utf-8\").replace(u\"\\ufffd\", \"?\")\n",
    "    except:\n",
    "        clean = stripped\n",
    "    letters_only = re.sub(\"[^a-zA-Z]\", \" \", clean)\n",
    "    lower_case = letters_only.lower()\n",
    "    stem_words = stemmer.stem(lower_case)\n",
    "    words = tok.tokenize(stem_words)\n",
    "    return(words)\n",
    "    #return (\" \".join(words)).strip()"
   ]
  },
  {
   "cell_type": "code",
   "execution_count": 14,
   "metadata": {},
   "outputs": [],
   "source": [
    "clean_text = []\n",
    "for i in range(len(text)):\n",
    "    clean_text.append(tweet_cleaner(text[1][i]))"
   ]
  },
  {
   "cell_type": "code",
   "execution_count": 8,
   "metadata": {},
   "outputs": [],
   "source": [
    "import pandas as pd\n",
    "import numpy as np\n",
    "import nltk\n",
    "from nltk.tokenize import WordPunctTokenizer\n",
    "from Sastrawi.Stemmer.StemmerFactory import StemmerFactory\n",
    "from bs4 import BeautifulSoup\n",
    "import re"
   ]
  },
  {
   "cell_type": "code",
   "execution_count": 40,
   "metadata": {},
   "outputs": [],
   "source": [
    "text = pd.read_csv('DataTwitter.csv', header=None)\n",
    "text = text.drop([0,2], axis=1)"
   ]
  },
  {
   "cell_type": "code",
   "execution_count": 43,
   "metadata": {},
   "outputs": [],
   "source": [
    "pat1 = r'@[A-Za-z0-9]+'\n",
    "pat2 = r'https?://[A-Za-z0-9./]+'\n",
    "pat3 = r'RT'\n",
    "combined_pat = r'|'.join((pat1, pat2,pat3)) \n",
    "\n",
    "def tweet_cleaner(text):\n",
    "    soup = BeautifulSoup(text, 'lxml')\n",
    "    souped = soup.get_text()\n",
    "    stripped = re.sub(combined_pat, '', souped)\n",
    "    try:\n",
    "        clean = stripped.decode(\"utf-8\").replace(u\"\\ufffd\", \"?\")\n",
    "    except:\n",
    "        clean = stripped\n",
    "    letters_only = re.sub(\"[^a-zA-Z]\", \" \", clean)\n",
    "    return(letters_only)"
   ]
  },
  {
   "cell_type": "code",
   "execution_count": 44,
   "metadata": {},
   "outputs": [],
   "source": [
    "clean_text = []\n",
    "for i in range(len(text)):\n",
    "    clean_text.append(tweet_cleaner(text[1][i]))"
   ]
  },
  {
   "cell_type": "code",
   "execution_count": 46,
   "metadata": {},
   "outputs": [],
   "source": [
    "#Case Folding\n",
    "for i in range(len(text)):\n",
    "    clean_text[i] = clean_text[i].lower()"
   ]
  },
  {
   "cell_type": "code",
   "execution_count": 48,
   "metadata": {},
   "outputs": [],
   "source": [
    "#Stemming\n",
    "from Sastrawi.Stemmer.StemmerFactory import StemmerFactory\n",
    "factory = StemmerFactory()\n",
    "stemmer = factory.create_stemmer()\n",
    "\n",
    "for i in range(len(text)):\n",
    "    clean_text[i] = stemmer.stem(clean_text[i])"
   ]
  },
  {
   "cell_type": "code",
   "execution_count": 50,
   "metadata": {},
   "outputs": [],
   "source": [
    "#Tokenization\n",
    "from nltk.tokenize import WordPunctTokenizer\n",
    "tok = WordPunctTokenizer()\n",
    "\n",
    "for i in range(len(text)):\n",
    "    clean_text[i] = tok.tokenize(clean_text[i])"
   ]
  },
  {
   "cell_type": "code",
   "execution_count": 56,
   "metadata": {},
   "outputs": [
    {
     "name": "stdout",
     "output_type": "stream",
     "text": [
      "\"RT @maspiyuuu: Unicorn RI Dikuasai Asing, Keuntungan Lari ke Luar Negeri\\n\\nKENAPA @prabowo KLO NGOMONG AKHIRNYA TERBUKTI? WALO AWALNYA DIBUL\\u2026\"\n",
      "\"RT @Heru_Catur: di stadion Jalak Karupat  semua suporter Bobotoh berteriak Prabowo... Prabowo...Prabowo \\n\\nKang Emil di dalam stadion cuma b\\u2026\"\n",
      "\"RT @PanglimaHansip: ini kenapa gua kaga demen nih partai..gerwani pada joged diatas sajadah provokasi terus #CapresO1Bohong https://t.co/CQ\\u2026\"\n",
      "\"RT @kaankahfi: YA AKU MARAH!!!#CapresO1Bohong #JokowiBohongLagi\\n#CapresPembohongKelautAje\\n\\n@MbahUyok @putrabanten80 @SukaBasaBasi @Maulana_\\u2026\"\n",
      "\"#CapresO1Bohong https://t.co/JOyU1WS8pM\"\n"
     ]
    }
   ],
   "source": [
    "for i in range(5):\n",
    "    print(text[1][i])"
   ]
  },
  {
   "cell_type": "code",
   "execution_count": 51,
   "metadata": {},
   "outputs": [
    {
     "data": {
      "text/plain": [
       "[['unicorn',\n",
       "  'ri',\n",
       "  'asai',\n",
       "  'asing',\n",
       "  'untung',\n",
       "  'lari',\n",
       "  'ke',\n",
       "  'luar',\n",
       "  'negeri',\n",
       "  'n',\n",
       "  'nkenapa',\n",
       "  'klo',\n",
       "  'ngomong',\n",
       "  'akhir',\n",
       "  'bukti',\n",
       "  'walo',\n",
       "  'awal',\n",
       "  'dibul',\n",
       "  'u'],\n",
       " ['catur',\n",
       "  'di',\n",
       "  'stadion',\n",
       "  'jalak',\n",
       "  'karupat',\n",
       "  'semua',\n",
       "  'suporter',\n",
       "  'bobotoh',\n",
       "  'teriak',\n",
       "  'prabowo',\n",
       "  'prabowo',\n",
       "  'prabowo',\n",
       "  'n',\n",
       "  'nkang',\n",
       "  'emil',\n",
       "  'di',\n",
       "  'dalam',\n",
       "  'stadion',\n",
       "  'cuma',\n",
       "  'b',\n",
       "  'u'],\n",
       " ['ini',\n",
       "  'kenapa',\n",
       "  'gua',\n",
       "  'kaga',\n",
       "  'demen',\n",
       "  'nih',\n",
       "  'partai',\n",
       "  'gerwani',\n",
       "  'pada',\n",
       "  'joged',\n",
       "  'atas',\n",
       "  'sajadah',\n",
       "  'provokasi',\n",
       "  'terus',\n",
       "  'capreso',\n",
       "  'bohong',\n",
       "  'u'],\n",
       " ['ya',\n",
       "  'aku',\n",
       "  'marah',\n",
       "  'capreso',\n",
       "  'bohong',\n",
       "  'jokowibohonglagi',\n",
       "  'n',\n",
       "  'caprespembohongkelautaje',\n",
       "  'n',\n",
       "  'n',\n",
       "  'u'],\n",
       " ['capreso', 'bohong']]"
      ]
     },
     "execution_count": 51,
     "metadata": {},
     "output_type": "execute_result"
    }
   ],
   "source": [
    "clean_text[:5]"
   ]
  },
  {
   "cell_type": "code",
   "execution_count": null,
   "metadata": {},
   "outputs": [],
   "source": []
  }
 ],
 "metadata": {
  "kernelspec": {
   "display_name": "Python 3",
   "language": "python",
   "name": "python3"
  },
  "language_info": {
   "codemirror_mode": {
    "name": "ipython",
    "version": 3
   },
   "file_extension": ".py",
   "mimetype": "text/x-python",
   "name": "python",
   "nbconvert_exporter": "python",
   "pygments_lexer": "ipython3",
   "version": "3.6.5"
  }
 },
 "nbformat": 4,
 "nbformat_minor": 2
}
